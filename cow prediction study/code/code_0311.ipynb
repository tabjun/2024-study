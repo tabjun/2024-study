{
 "cells": [
  {
   "cell_type": "code",
   "execution_count": 1,
   "metadata": {},
   "outputs": [],
   "source": [
    "import pandas as pd\n",
    "import numpy as np\n",
    "import os\n",
    "import statsmodels.api as sm"
   ]
  },
  {
   "cell_type": "markdown",
   "metadata": {},
   "source": [
    "# 데이터 불러오기"
   ]
  },
  {
   "cell_type": "code",
   "execution_count": 5,
   "metadata": {},
   "outputs": [
    {
     "data": {
      "text/plain": [
       "['거비프 데이터-2020.xlsx',\n",
       " '거비프 데이터-2021.xlsx',\n",
       " '거비프 데이터-2022.xlsx',\n",
       " '거비프 데이터-2023.xlsx']"
      ]
     },
     "execution_count": 5,
     "metadata": {},
     "output_type": "execute_result"
    }
   ],
   "source": [
    "# 파일이 존재하는 경로 불러오기 및 리스트\n",
    "path = '../data'\n",
    "file_lst = os.listdir(path)# 폴더 내 파일 리스트\n",
    "file_lst"
   ]
  },
  {
   "cell_type": "code",
   "execution_count": 7,
   "metadata": {},
   "outputs": [],
   "source": [
    "data1 = pd.read_excel('../data/거비프 데이터-2020.xlsx')\n",
    "data2 = pd.read_excel('../data/거비프 데이터-2021.xlsx')\n",
    "data3 = pd.read_excel('../data/거비프 데이터-2022.xlsx')\n",
    "\n",
    "data4 = pd.read_excel('../data/거비프 데이터-2023.xlsx')"
   ]
  },
  {
   "cell_type": "code",
   "execution_count": 8,
   "metadata": {},
   "outputs": [
    {
     "data": {
      "text/html": [
       "<div>\n",
       "<style scoped>\n",
       "    .dataframe tbody tr th:only-of-type {\n",
       "        vertical-align: middle;\n",
       "    }\n",
       "\n",
       "    .dataframe tbody tr th {\n",
       "        vertical-align: top;\n",
       "    }\n",
       "\n",
       "    .dataframe thead th {\n",
       "        text-align: right;\n",
       "    }\n",
       "</style>\n",
       "<table border=\"1\" class=\"dataframe\">\n",
       "  <thead>\n",
       "    <tr style=\"text-align: right;\">\n",
       "      <th></th>\n",
       "      <th>목장코드</th>\n",
       "      <th>출생월</th>\n",
       "      <th>도축개월령</th>\n",
       "      <th>생시체중</th>\n",
       "      <th>출생산차</th>\n",
       "      <th>EPD 근내</th>\n",
       "      <th>EPD 냉도체중</th>\n",
       "      <th>KPN체고</th>\n",
       "      <th>KPN체장</th>\n",
       "      <th>실제 도축 도체중</th>\n",
       "      <th>...</th>\n",
       "      <th>개월령의 근내평균</th>\n",
       "      <th>개월령의 도체중평균</th>\n",
       "      <th>개월령의 도체범위의 근내평균</th>\n",
       "      <th>개월령의 도체범위의 도체중평균</th>\n",
       "      <th>형매근내평균가산점수</th>\n",
       "      <th>거세우 형매 도축 단가 가산 평균</th>\n",
       "      <th>어미형매근내평균가산점수</th>\n",
       "      <th>외할미형매근내평균가산점수</th>\n",
       "      <th>농가근내평균가산점수</th>\n",
       "      <th>농가도체중평균가산점수</th>\n",
       "    </tr>\n",
       "  </thead>\n",
       "  <tbody>\n",
       "    <tr>\n",
       "      <th>0</th>\n",
       "      <td>263660</td>\n",
       "      <td>2017-06-25</td>\n",
       "      <td>31</td>\n",
       "      <td>713</td>\n",
       "      <td>2</td>\n",
       "      <td>-0.3255</td>\n",
       "      <td>0.8868</td>\n",
       "      <td>132.9</td>\n",
       "      <td>150.4</td>\n",
       "      <td>399</td>\n",
       "      <td>...</td>\n",
       "      <td>5.47</td>\n",
       "      <td>433.52</td>\n",
       "      <td>4.81</td>\n",
       "      <td>384.22</td>\n",
       "      <td>-2.34</td>\n",
       "      <td>0</td>\n",
       "      <td>0.0000</td>\n",
       "      <td>0.0</td>\n",
       "      <td>0.83</td>\n",
       "      <td>55.17</td>\n",
       "    </tr>\n",
       "    <tr>\n",
       "      <th>1</th>\n",
       "      <td>389182</td>\n",
       "      <td>2017-06-10</td>\n",
       "      <td>31</td>\n",
       "      <td>745</td>\n",
       "      <td>5</td>\n",
       "      <td>0.1628</td>\n",
       "      <td>-6.9983</td>\n",
       "      <td>128.3</td>\n",
       "      <td>144.0</td>\n",
       "      <td>417</td>\n",
       "      <td>...</td>\n",
       "      <td>5.51</td>\n",
       "      <td>425.51</td>\n",
       "      <td>5.69</td>\n",
       "      <td>424.95</td>\n",
       "      <td>2.03</td>\n",
       "      <td>947</td>\n",
       "      <td>-0.5983</td>\n",
       "      <td>0.0</td>\n",
       "      <td>1.88</td>\n",
       "      <td>22.40</td>\n",
       "    </tr>\n",
       "  </tbody>\n",
       "</table>\n",
       "<p>2 rows × 23 columns</p>\n",
       "</div>"
      ],
      "text/plain": [
       "     목장코드        출생월  도축개월령  생시체중  출생산차  EPD 근내  EPD 냉도체중  KPN체고  KPN체장  \\\n",
       "0  263660 2017-06-25     31   713     2 -0.3255    0.8868  132.9  150.4   \n",
       "1  389182 2017-06-10     31   745     5  0.1628   -6.9983  128.3  144.0   \n",
       "\n",
       "   실제 도축 도체중  ...  개월령의 근내평균  개월령의 도체중평균  개월령의 도체범위의 근내평균  개월령의 도체범위의 도체중평균  \\\n",
       "0        399  ...       5.47      433.52             4.81            384.22   \n",
       "1        417  ...       5.51      425.51             5.69            424.95   \n",
       "\n",
       "   형매근내평균가산점수  거세우 형매 도축 단가 가산 평균  어미형매근내평균가산점수  외할미형매근내평균가산점수  농가근내평균가산점수  \\\n",
       "0       -2.34                   0        0.0000            0.0        0.83   \n",
       "1        2.03                 947       -0.5983            0.0        1.88   \n",
       "\n",
       "   농가도체중평균가산점수  \n",
       "0        55.17  \n",
       "1        22.40  \n",
       "\n",
       "[2 rows x 23 columns]"
      ]
     },
     "execution_count": 8,
     "metadata": {},
     "output_type": "execute_result"
    }
   ],
   "source": [
    "df = pd.DataFrame()\n",
    "\n",
    "for i in file_lst:\n",
    "    if '2020' in i or '2021' in i or '2022' in i:  # Check if the file name contains '2020', '2021', or '2022'\n",
    "        data_3 = pd.read_excel(path + '/' + i)\n",
    "        df = pd.concat([df, data_3])\n",
    "\n",
    "df = df.reset_index(drop=True)\n",
    "df.head(2)"
   ]
  },
  {
   "cell_type": "code",
   "execution_count": 9,
   "metadata": {},
   "outputs": [
    {
     "data": {
      "text/plain": [
       "(278127, 23)"
      ]
     },
     "execution_count": 9,
     "metadata": {},
     "output_type": "execute_result"
    }
   ],
   "source": [
    "df.shape"
   ]
  },
  {
   "cell_type": "code",
   "execution_count": null,
   "metadata": {},
   "outputs": [],
   "source": []
  },
  {
   "cell_type": "markdown",
   "metadata": {},
   "source": [
    "# 데이터 전처리"
   ]
  },
  {
   "cell_type": "code",
   "execution_count": 12,
   "metadata": {},
   "outputs": [
    {
     "data": {
      "text/plain": [
       "5    101658\n",
       "4     86465\n",
       "3     62392\n",
       "2     25347\n",
       "1      2092\n",
       "0       173\n",
       "Name: 근내환산점수, dtype: int64"
      ]
     },
     "execution_count": 12,
     "metadata": {},
     "output_type": "execute_result"
    }
   ],
   "source": [
    "df.근내환산점수.value_counts()"
   ]
  },
  {
   "cell_type": "code",
   "execution_count": 14,
   "metadata": {},
   "outputs": [],
   "source": [
    "# target1, 2, 3 만들기\n",
    "train_copy = df.copy()\n",
    "train_copy['target1'] = train_copy['근내환산점수'].apply(lambda x: 1 if 5 == x else 0)\n",
    "train_copy['target2'] = train_copy['근내환산점수'].apply(lambda x: 1 if 4 <= x else 0)\n",
    "train_copy['target3'] = train_copy['근내환산점수'].apply(lambda x: 1 if 3 <= x else 0)"
   ]
  },
  {
   "cell_type": "code",
   "execution_count": 27,
   "metadata": {},
   "outputs": [
    {
     "name": "stdout",
     "output_type": "stream",
     "text": [
      "target1 확인\n",
      "0    176469\n",
      "1    101658\n",
      "Name: target1, dtype: int64\n",
      "101658\n",
      "\n",
      "\n",
      "target2 확인\n",
      "1    188123\n",
      "0     90004\n",
      "Name: target2, dtype: int64\n",
      "188123\n",
      "\n",
      "\n",
      "target3 확인\n",
      "1    250515\n",
      "0     27612\n",
      "Name: target3, dtype: int64\n",
      "250515\n"
     ]
    }
   ],
   "source": [
    "# 확인\n",
    "print('target1 확인')\n",
    "print(train_copy['target1'].value_counts())\n",
    "print(len(train_copy[train_copy['근내환산점수']==5]))\n",
    "print(('\\n'))\n",
    "print('target2 확인')\n",
    "print(train_copy['target2'].value_counts())\n",
    "print(len(train_copy[train_copy['근내환산점수']>=4]))\n",
    "print(('\\n'))\n",
    "print('target3 확인')\n",
    "print(train_copy['target3'].value_counts())\n",
    "print(len(train_copy[train_copy['근내환산점수']>=3]))"
   ]
  },
  {
   "cell_type": "code",
   "execution_count": null,
   "metadata": {},
   "outputs": [],
   "source": []
  },
  {
   "cell_type": "markdown",
   "metadata": {},
   "source": [
    "# 모델링"
   ]
  },
  {
   "cell_type": "code",
   "execution_count": 5,
   "metadata": {},
   "outputs": [
    {
     "data": {
      "text/plain": [
       "(278127, 26)"
      ]
     },
     "execution_count": 5,
     "metadata": {},
     "output_type": "execute_result"
    }
   ],
   "source": [
    "train = pd.read_csv('../data/train.csv', encoding='cp949')\n",
    "train.shape"
   ]
  },
  {
   "cell_type": "code",
   "execution_count": 6,
   "metadata": {},
   "outputs": [
    {
     "data": {
      "text/plain": [
       "Index(['목장코드', '출생월', '도축개월령', '생시체중', '출생산차', 'EPD 근내', 'EPD 냉도체중', 'KPN체고',\n",
       "       'KPN체장', '실제 도축 도체중', '실제 도축 근내지방', '근내환산점수', '도축단가가산점수', '개월령의 근내평균',\n",
       "       '개월령의 도체중평균', '개월령의 도체범위의 근내평균', '개월령의 도체범위의 도체중평균', '형매근내평균가산점수',\n",
       "       '거세우 형매 도축 단가 가산 평균', '어미형매근내평균가산점수', '외할미형매근내평균가산점수', '농가근내평균가산점수',\n",
       "       '농가도체중평균가산점수', 'target1', 'target2', 'target3'],\n",
       "      dtype='object')"
      ]
     },
     "execution_count": 6,
     "metadata": {},
     "output_type": "execute_result"
    }
   ],
   "source": [
    "train_copy = train.copy()\n",
    "train_copy.columns"
   ]
  },
  {
   "cell_type": "code",
   "execution_count": null,
   "metadata": {},
   "outputs": [],
   "source": []
  }
 ],
 "metadata": {
  "kernelspec": {
   "display_name": "'tem'",
   "language": "python",
   "name": "python3"
  },
  "language_info": {
   "codemirror_mode": {
    "name": "ipython",
    "version": 3
   },
   "file_extension": ".py",
   "mimetype": "text/x-python",
   "name": "python",
   "nbconvert_exporter": "python",
   "pygments_lexer": "ipython3",
   "version": "3.8.0"
  }
 },
 "nbformat": 4,
 "nbformat_minor": 2
}
