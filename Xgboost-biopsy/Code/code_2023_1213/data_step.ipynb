{
 "cells": [
  {
   "cell_type": "code",
   "execution_count": 1,
   "metadata": {},
   "outputs": [],
   "source": [
    "import pandas as pd \n",
    "import numpy as np\n",
    "from xgboost import XGBClassifier"
   ]
  },
  {
   "cell_type": "code",
   "execution_count": 2,
   "metadata": {},
   "outputs": [],
   "source": [
    "train = pd.read_csv('../data/train.csv')\n",
    "valid = pd.read_csv('../data/validation.csv')\n",
    "test = pd.read_csv('../data/test.csv')\n",
    "col = pd.read_csv('../data/columns.csv', encoding='cp949')"
   ]
  },
  {
   "cell_type": "code",
   "execution_count": 3,
   "metadata": {},
   "outputs": [
    {
     "name": "stdout",
     "output_type": "stream",
     "text": [
      "Index(['rid', 'id', 'set', 'age', 'sex', 'HTN', 'DM', 'plt', 'tpro', 'alb',\n",
      "       'chol', 'bun', 'cr', 'eGFR', 'blood_dip', 'protein_dip', 'acr_urine',\n",
      "       'pcr_urine', 'glu', 'glu_urine', 'esterase_urine', 'dysmorphism', 'RBC',\n",
      "       'WBC', 'RBC_re', 'WBC_re', 'RBC_binary', 'WBC_binary',\n",
      "       'esterase_binary', 'Biopsy_HR', 'Biopsy_HW', 'Biopsy_HK', 'hr_A1',\n",
      "       'hr_proba', 'hw_A2', 'hw_proba', 'hk_A3', 'hk_proba'],\n",
      "      dtype='object')\n",
      "Index(['rid', 'id', 'set', 'age', 'sex', 'HTN', 'DM', 'plt', 'tpro', 'alb',\n",
      "       'chol', 'bun', 'cr', 'eGFR', 'blood_dip', 'protein_dip', 'acr_urine',\n",
      "       'pcr_urine', 'glu', 'glu_urine', 'esterase_urine', 'dysmorphism', 'RBC',\n",
      "       'WBC', 'RBC_re', 'WBC_re', 'RBC_binary', 'WBC_binary',\n",
      "       'esterase_binary', 'Biopsy_HR', 'Biopsy_HW', 'Biopsy_HK', 'hr_A1',\n",
      "       'hr_proba', 'hw_A2', 'hw_proba', 'hk_A3', 'hk_proba'],\n",
      "      dtype='object')\n",
      "Index(['rid', 'id', 'set', 'age', 'sex', 'HTN', 'DM', 'plt', 'tpro', 'alb',\n",
      "       'chol', 'bun', 'cr', 'eGFR', 'blood_dip', 'protein_dip', 'acr_urine',\n",
      "       'pcr_urine', 'glu', 'glu_urine', 'esterase_urine', 'dysmorphism', 'RBC',\n",
      "       'WBC', 'RBC_re', 'WBC_re', 'RBC_binary', 'WBC_binary',\n",
      "       'esterase_binary', 'Biopsy_HR', 'Biopsy_HW', 'Biopsy_HK', 'hr_A1',\n",
      "       'hr_proba', 'hw_A2', 'hw_proba', 'hk_A3', 'hk_proba'],\n",
      "      dtype='object')\n",
      "Index(['(실명)등록번호', '병리작성일', '연구등록번호', '서식키', '병리번호', '병리진단', 'age', 'sex',\n",
      "       'HTN', 'DM', 'plt', 'tpro', 'alb', 'Tchol', 'bun', 'cr', 'eGFR',\n",
      "       'blood_dip', 'protein_dip', 'acr_urine', 'pcr_urine', 'glu',\n",
      "       'glu_urine', 'esterase_urine', 'dysmorphism', 'RBC', 'WBC',\n",
      "       'WBC_binary', 'esterase_binary', 'Biopsy_HR', 'Biopsy_HW', 'Biopsy_HK',\n",
      "       'hr_A1', 'hr_proba', 'hw_A2', 'hw_proba', 'hk_A3', 'hk_proba'],\n",
      "      dtype='object')\n"
     ]
    }
   ],
   "source": [
    "print(train.columns)\n",
    "print(valid.columns)\n",
    "print(test.columns)\n",
    "print(col.columns)"
   ]
  },
  {
   "cell_type": "markdown",
   "metadata": {},
   "source": [
    "##### col 데이터셋에서 사용된 변수만 사용하기, 'Biopsy_HR', 'Biopsy_HW', 'Biopsy_HK' 는 각 3명이 정답내놓은거(target)  그 뒤는 예측값 및 확률이라 제거하고 사용\n",
    "- set변수는 train, validation, test 나눈거 group으로 구분준거라 없애고 해도 됨"
   ]
  },
  {
   "cell_type": "code",
   "execution_count": 4,
   "metadata": {},
   "outputs": [
    {
     "name": "stdout",
     "output_type": "stream",
     "text": [
      "['병리작성일', 'id', '서식키', '연구등록번호', '병리진단', '병리번호', 'WBC_re']\n",
      "['set', 'Tchol', 'RBC_binary', 'rid', 'chol', '(실명)등록번호', 'RBC_re']\n"
     ]
    }
   ],
   "source": [
    "# 데이터 셋 간 변수 차이\n",
    "print(list(set(train.columns)^set(col.columns))[:7])\n",
    "print(list(set(train.columns)^set(col.columns))[7:])"
   ]
  },
  {
   "cell_type": "code",
   "execution_count": 19,
   "metadata": {},
   "outputs": [
    {
     "name": "stdout",
     "output_type": "stream",
     "text": [
      "              WBC             RBC  WBC_re  RBC_re\n",
      "0      6-10(33.4)     10-20(79.0)    33.4    79.0\n",
      "1       3-5(31.2)      6-10(45.8)    31.2    45.8\n",
      "2      6-10(46.2)       3-5(28.9)    46.2    28.9\n",
      "3        0-2(7.2)  None seen(4.1)     7.2     4.1\n",
      "4     10-20(97.6)     Many(394.9)    97.6   394.9\n",
      "...           ...             ...     ...     ...\n",
      "6166            0               0     0.0     0.0\n",
      "6167           30              30    30.0    30.0\n",
      "6168            0              20     0.0    20.0\n",
      "6169           10              30    10.0    30.0\n",
      "6170            0              20     0.0    20.0\n",
      "\n",
      "[6171 rows x 4 columns]\n",
      "                WBC             RBC  WBC_re  RBC_re\n",
      "0    None seen(2.9)      6-10(56.2)     2.9    56.2\n",
      "1       10-20(64.7)       3-5(24.4)    64.7    24.4\n",
      "2          0-2(7.9)       0-2(13.3)     7.9    13.3\n",
      "3         3-5(29.2)       0-2(13.4)    29.2    13.4\n",
      "4          0-2(5.7)       0-2(15.9)     5.7    15.9\n",
      "..              ...             ...     ...     ...\n",
      "406       0-2(14.9)      6-10(33.4)    14.9    33.4\n",
      "407     Many(120.1)      6-10(58.4)   120.1    58.4\n",
      "408  None seen(3.9)  None seen(1.9)     3.9     1.9\n",
      "409       0-2(11.6)       3-5(24.8)    11.6    24.8\n",
      "410  None seen(3.5)      6-10(35.6)     3.5    35.6\n",
      "\n",
      "[411 rows x 4 columns]\n"
     ]
    },
    {
     "data": {
      "text/html": [
       "<div>\n",
       "<style scoped>\n",
       "    .dataframe tbody tr th:only-of-type {\n",
       "        vertical-align: middle;\n",
       "    }\n",
       "\n",
       "    .dataframe tbody tr th {\n",
       "        vertical-align: top;\n",
       "    }\n",
       "\n",
       "    .dataframe thead th {\n",
       "        text-align: right;\n",
       "    }\n",
       "</style>\n",
       "<table border=\"1\" class=\"dataframe\">\n",
       "  <thead>\n",
       "    <tr style=\"text-align: right;\">\n",
       "      <th></th>\n",
       "      <th>WBC</th>\n",
       "      <th>RBC</th>\n",
       "      <th>WBC_re</th>\n",
       "      <th>RBC_re</th>\n",
       "    </tr>\n",
       "  </thead>\n",
       "  <tbody>\n",
       "    <tr>\n",
       "      <th>0</th>\n",
       "      <td>Many(162.0)</td>\n",
       "      <td>0-2(5.8)</td>\n",
       "      <td>162.0</td>\n",
       "      <td>5.8</td>\n",
       "    </tr>\n",
       "    <tr>\n",
       "      <th>1</th>\n",
       "      <td>0-2(11.4)</td>\n",
       "      <td>Many(6915.1)</td>\n",
       "      <td>11.4</td>\n",
       "      <td>6915.1</td>\n",
       "    </tr>\n",
       "    <tr>\n",
       "      <th>2</th>\n",
       "      <td>NaN</td>\n",
       "      <td>NaN</td>\n",
       "      <td>NaN</td>\n",
       "      <td>NaN</td>\n",
       "    </tr>\n",
       "    <tr>\n",
       "      <th>3</th>\n",
       "      <td>None seen(3.1)</td>\n",
       "      <td>0-2(13.0)</td>\n",
       "      <td>3.1</td>\n",
       "      <td>13.0</td>\n",
       "    </tr>\n",
       "    <tr>\n",
       "      <th>4</th>\n",
       "      <td>0-2(14.3)</td>\n",
       "      <td>0-2(15.2)</td>\n",
       "      <td>14.3</td>\n",
       "      <td>15.2</td>\n",
       "    </tr>\n",
       "    <tr>\n",
       "      <th>...</th>\n",
       "      <td>...</td>\n",
       "      <td>...</td>\n",
       "      <td>...</td>\n",
       "      <td>...</td>\n",
       "    </tr>\n",
       "    <tr>\n",
       "      <th>1641</th>\n",
       "      <td>0-2(10.0)</td>\n",
       "      <td>0-2(10.0)</td>\n",
       "      <td>10.0</td>\n",
       "      <td>10.0</td>\n",
       "    </tr>\n",
       "    <tr>\n",
       "      <th>1642</th>\n",
       "      <td>0-2(10.0)</td>\n",
       "      <td>0-2(10.0)</td>\n",
       "      <td>10.0</td>\n",
       "      <td>10.0</td>\n",
       "    </tr>\n",
       "    <tr>\n",
       "      <th>1643</th>\n",
       "      <td>0-2(10.0)</td>\n",
       "      <td>0-2(10.0)</td>\n",
       "      <td>10.0</td>\n",
       "      <td>10.0</td>\n",
       "    </tr>\n",
       "    <tr>\n",
       "      <th>1644</th>\n",
       "      <td>21~30</td>\n",
       "      <td>0-2(10.0)</td>\n",
       "      <td>NaN</td>\n",
       "      <td>10.0</td>\n",
       "    </tr>\n",
       "    <tr>\n",
       "      <th>1645</th>\n",
       "      <td>0-2(10.0)</td>\n",
       "      <td>0-2(10.0)</td>\n",
       "      <td>10.0</td>\n",
       "      <td>10.0</td>\n",
       "    </tr>\n",
       "  </tbody>\n",
       "</table>\n",
       "<p>1646 rows × 4 columns</p>\n",
       "</div>"
      ],
      "text/plain": [
       "                 WBC           RBC  WBC_re  RBC_re\n",
       "0        Many(162.0)      0-2(5.8)   162.0     5.8\n",
       "1          0-2(11.4)  Many(6915.1)    11.4  6915.1\n",
       "2                NaN           NaN     NaN     NaN\n",
       "3     None seen(3.1)     0-2(13.0)     3.1    13.0\n",
       "4          0-2(14.3)     0-2(15.2)    14.3    15.2\n",
       "...              ...           ...     ...     ...\n",
       "1641       0-2(10.0)     0-2(10.0)    10.0    10.0\n",
       "1642       0-2(10.0)     0-2(10.0)    10.0    10.0\n",
       "1643       0-2(10.0)     0-2(10.0)    10.0    10.0\n",
       "1644           21~30     0-2(10.0)     NaN    10.0\n",
       "1645       0-2(10.0)     0-2(10.0)    10.0    10.0\n",
       "\n",
       "[1646 rows x 4 columns]"
      ]
     },
     "execution_count": 19,
     "metadata": {},
     "output_type": "execute_result"
    }
   ],
   "source": [
    "print(train[['WBC','RBC','WBC_re','RBC_re']])\n",
    "print(valid[['WBC','RBC','WBC_re','RBC_re']])\n",
    "test[['WBC','RBC','WBC_re','RBC_re']]"
   ]
  },
  {
   "cell_type": "code",
   "execution_count": 12,
   "metadata": {},
   "outputs": [],
   "source": [
    "tr = train.loc[:, ~train.columns.isin(['rid','id','set','chol','hr_A1',\n",
    "       'hr_proba', 'hw_A2', 'hw_proba', 'hk_A3', 'hk_proba','WBC','RBC'])].copy()\n",
    "val = valid.loc[:, ~valid.columns.isin(['rid','id','set','chol','hr_A1',\n",
    "       'hr_proba', 'hw_A2', 'hw_proba', 'hk_A3', 'hk_proba','WBC','RBC'])].copy()\n",
    "te = test.loc[:, ~test.columns.isin(['rid','id','set','chol','hr_A1',\n",
    "       'hr_proba', 'hw_A2', 'hw_proba', 'hk_A3', 'hk_proba','WBC','RBC'])].copy()"
   ]
  },
  {
   "cell_type": "code",
   "execution_count": 13,
   "metadata": {},
   "outputs": [
    {
     "name": "stdout",
     "output_type": "stream",
     "text": [
      "['병리작성일', '서식키', 'hr_proba', 'RBC', '연구등록번호', '병리진단', '병리번호']\n",
      "['hw_A2', 'WBC_re', 'Tchol', 'WBC', 'RBC_binary', 'hk_proba', 'hr_A1', 'hw_proba', '(실명)등록번호', 'hk_A3', 'RBC_re']\n",
      "['병리작성일', '서식키', 'hr_proba', 'RBC', '연구등록번호', '병리진단', '병리번호']\n",
      "['hw_A2', 'WBC_re', 'Tchol', 'WBC', 'RBC_binary', 'hk_proba', 'hr_A1', 'hw_proba', '(실명)등록번호', 'hk_A3', 'RBC_re']\n",
      "['병리작성일', '서식키', 'hr_proba', 'RBC', '연구등록번호', '병리진단', '병리번호']\n",
      "['hw_A2', 'WBC_re', 'Tchol', 'WBC', 'RBC_binary', 'hk_proba', 'hr_A1', 'hw_proba', '(실명)등록번호', 'hk_A3', 'RBC_re']\n"
     ]
    }
   ],
   "source": [
    "print(list(set(tr.columns)^set(col.columns))[:7])\n",
    "print(list(set(tr.columns)^set(col.columns))[7:])\n",
    "\n",
    "print(list(set(val.columns)^set(col.columns))[:7])\n",
    "print(list(set(val.columns)^set(col.columns))[7:])\n",
    "\n",
    "print(list(set(te.columns)^set(col.columns))[:7])\n",
    "print(list(set(te.columns)^set(col.columns))[7:])\n"
   ]
  },
  {
   "cell_type": "code",
   "execution_count": 14,
   "metadata": {},
   "outputs": [
    {
     "name": "stdout",
     "output_type": "stream",
     "text": [
      "(6171, 26)\n",
      "(411, 26)\n",
      "(1646, 26)\n"
     ]
    }
   ],
   "source": [
    "print(tr.shape)\n",
    "print(val.shape)\n",
    "print(te.shape)"
   ]
  },
  {
   "cell_type": "code",
   "execution_count": 15,
   "metadata": {},
   "outputs": [
    {
     "data": {
      "text/html": [
       "<div>\n",
       "<style scoped>\n",
       "    .dataframe tbody tr th:only-of-type {\n",
       "        vertical-align: middle;\n",
       "    }\n",
       "\n",
       "    .dataframe tbody tr th {\n",
       "        vertical-align: top;\n",
       "    }\n",
       "\n",
       "    .dataframe thead th {\n",
       "        text-align: right;\n",
       "    }\n",
       "</style>\n",
       "<table border=\"1\" class=\"dataframe\">\n",
       "  <thead>\n",
       "    <tr style=\"text-align: right;\">\n",
       "      <th></th>\n",
       "      <th>set</th>\n",
       "      <th>age</th>\n",
       "      <th>sex</th>\n",
       "      <th>HTN</th>\n",
       "      <th>DM</th>\n",
       "      <th>plt</th>\n",
       "      <th>tpro</th>\n",
       "      <th>alb</th>\n",
       "      <th>chol</th>\n",
       "      <th>bun</th>\n",
       "      <th>...</th>\n",
       "      <th>esterase_binary</th>\n",
       "      <th>Biopsy_HR</th>\n",
       "      <th>Biopsy_HW</th>\n",
       "      <th>Biopsy_HK</th>\n",
       "      <th>hr_A1</th>\n",
       "      <th>hr_proba</th>\n",
       "      <th>hw_A2</th>\n",
       "      <th>hw_proba</th>\n",
       "      <th>hk_A3</th>\n",
       "      <th>hk_proba</th>\n",
       "    </tr>\n",
       "  </thead>\n",
       "  <tbody>\n",
       "    <tr>\n",
       "      <th>0</th>\n",
       "      <td>1</td>\n",
       "      <td>48.769863</td>\n",
       "      <td>2</td>\n",
       "      <td>0</td>\n",
       "      <td>0</td>\n",
       "      <td>169.0</td>\n",
       "      <td>6.1</td>\n",
       "      <td>3.5</td>\n",
       "      <td>205</td>\n",
       "      <td>24.3</td>\n",
       "      <td>...</td>\n",
       "      <td>1</td>\n",
       "      <td>1</td>\n",
       "      <td>1</td>\n",
       "      <td>1</td>\n",
       "      <td>1</td>\n",
       "      <td>0.243998</td>\n",
       "      <td>1</td>\n",
       "      <td>0.233381</td>\n",
       "      <td>1</td>\n",
       "      <td>0.11308</td>\n",
       "    </tr>\n",
       "  </tbody>\n",
       "</table>\n",
       "<p>1 rows × 36 columns</p>\n",
       "</div>"
      ],
      "text/plain": [
       "   set        age  sex  HTN  DM    plt  tpro  alb  chol   bun  ...  \\\n",
       "0    1  48.769863    2    0   0  169.0   6.1  3.5   205  24.3  ...   \n",
       "\n",
       "   esterase_binary  Biopsy_HR  Biopsy_HW  Biopsy_HK  hr_A1  hr_proba  hw_A2  \\\n",
       "0                1          1          1          1      1  0.243998      1   \n",
       "\n",
       "   hw_proba  hk_A3  hk_proba  \n",
       "0  0.233381      1   0.11308  \n",
       "\n",
       "[1 rows x 36 columns]"
      ]
     },
     "execution_count": 15,
     "metadata": {},
     "output_type": "execute_result"
    }
   ],
   "source": [
    "# 열 제외 방법\n",
    "train.loc[:, (train.columns!='rid')&(train.columns!='id')].head(1)\n",
    "train.loc[:, ~train.columns.isin(['rid','id'])].head(1)\n",
    "train.loc[:, [i for i in list(train.columns) if i not in ['rid','id']]].head(1)"
   ]
  },
  {
   "cell_type": "markdown",
   "metadata": {},
   "source": [
    "### 선생님별로 데이터셋 나누기"
   ]
  },
  {
   "cell_type": "code",
   "execution_count": 16,
   "metadata": {},
   "outputs": [
    {
     "name": "stdout",
     "output_type": "stream",
     "text": [
      "Index(['age', 'sex', 'HTN', 'DM', 'plt', 'tpro', 'alb', 'bun', 'cr', 'eGFR',\n",
      "       'blood_dip', 'protein_dip', 'acr_urine', 'pcr_urine', 'glu',\n",
      "       'glu_urine', 'esterase_urine', 'dysmorphism', 'RBC_re', 'WBC_re',\n",
      "       'RBC_binary', 'WBC_binary', 'esterase_binary', 'Biopsy_HR'],\n",
      "      dtype='object')\n",
      "Index(['age', 'sex', 'HTN', 'DM', 'plt', 'tpro', 'alb', 'bun', 'cr', 'eGFR',\n",
      "       'blood_dip', 'protein_dip', 'acr_urine', 'pcr_urine', 'glu',\n",
      "       'glu_urine', 'esterase_urine', 'dysmorphism', 'RBC_re', 'WBC_re',\n",
      "       'RBC_binary', 'WBC_binary', 'esterase_binary', 'Biopsy_HW'],\n",
      "      dtype='object')\n",
      "Index(['age', 'sex', 'HTN', 'DM', 'plt', 'tpro', 'alb', 'bun', 'cr', 'eGFR',\n",
      "       'blood_dip', 'protein_dip', 'acr_urine', 'pcr_urine', 'glu',\n",
      "       'glu_urine', 'esterase_urine', 'dysmorphism', 'RBC_re', 'WBC_re',\n",
      "       'RBC_binary', 'WBC_binary', 'esterase_binary', 'Biopsy_HK'],\n",
      "      dtype='object')\n",
      "(6171, 24)\n",
      "(6171, 24)\n",
      "(6171, 24)\n",
      "                                                   ======validation=======                                                       \n",
      "Index(['age', 'sex', 'HTN', 'DM', 'plt', 'tpro', 'alb', 'bun', 'cr', 'eGFR',\n",
      "       'blood_dip', 'protein_dip', 'acr_urine', 'pcr_urine', 'glu',\n",
      "       'glu_urine', 'esterase_urine', 'dysmorphism', 'RBC_re', 'WBC_re',\n",
      "       'RBC_binary', 'WBC_binary', 'esterase_binary', 'Biopsy_HR'],\n",
      "      dtype='object')\n",
      "Index(['age', 'sex', 'HTN', 'DM', 'plt', 'tpro', 'alb', 'bun', 'cr', 'eGFR',\n",
      "       'blood_dip', 'protein_dip', 'acr_urine', 'pcr_urine', 'glu',\n",
      "       'glu_urine', 'esterase_urine', 'dysmorphism', 'RBC_re', 'WBC_re',\n",
      "       'RBC_binary', 'WBC_binary', 'esterase_binary', 'Biopsy_HW'],\n",
      "      dtype='object')\n",
      "Index(['age', 'sex', 'HTN', 'DM', 'plt', 'tpro', 'alb', 'bun', 'cr', 'eGFR',\n",
      "       'blood_dip', 'protein_dip', 'acr_urine', 'pcr_urine', 'glu',\n",
      "       'glu_urine', 'esterase_urine', 'dysmorphism', 'RBC_re', 'WBC_re',\n",
      "       'RBC_binary', 'WBC_binary', 'esterase_binary', 'Biopsy_HK'],\n",
      "      dtype='object')\n",
      "(411, 24)\n",
      "(411, 24)\n",
      "(411, 24)\n",
      "                                                      ======test=======                                                              \n",
      "Index(['age', 'sex', 'HTN', 'DM', 'plt', 'tpro', 'alb', 'bun', 'cr', 'eGFR',\n",
      "       'blood_dip', 'protein_dip', 'acr_urine', 'pcr_urine', 'glu',\n",
      "       'glu_urine', 'esterase_urine', 'dysmorphism', 'RBC_re', 'WBC_re',\n",
      "       'RBC_binary', 'WBC_binary', 'esterase_binary', 'Biopsy_HR'],\n",
      "      dtype='object')\n",
      "Index(['age', 'sex', 'HTN', 'DM', 'plt', 'tpro', 'alb', 'bun', 'cr', 'eGFR',\n",
      "       'blood_dip', 'protein_dip', 'acr_urine', 'pcr_urine', 'glu',\n",
      "       'glu_urine', 'esterase_urine', 'dysmorphism', 'RBC_re', 'WBC_re',\n",
      "       'RBC_binary', 'WBC_binary', 'esterase_binary', 'Biopsy_HW'],\n",
      "      dtype='object')\n",
      "Index(['age', 'sex', 'HTN', 'DM', 'plt', 'tpro', 'alb', 'bun', 'cr', 'eGFR',\n",
      "       'blood_dip', 'protein_dip', 'acr_urine', 'pcr_urine', 'glu',\n",
      "       'glu_urine', 'esterase_urine', 'dysmorphism', 'RBC_re', 'WBC_re',\n",
      "       'RBC_binary', 'WBC_binary', 'esterase_binary', 'Biopsy_HK'],\n",
      "      dtype='object')\n",
      "(1646, 24)\n",
      "(1646, 24)\n",
      "(1646, 24)\n"
     ]
    }
   ],
   "source": [
    "# train set split\n",
    "hr_tr = tr.drop(['Biopsy_HW','Biopsy_HK'], axis=1).copy()\n",
    "hw_tr = tr.drop(['Biopsy_HR','Biopsy_HK'], axis=1).copy()\n",
    "hk_tr = tr.drop(['Biopsy_HR','Biopsy_HW'], axis=1).copy()\n",
    "\n",
    "print(hr_tr.columns);print(hw_tr.columns);print(hk_tr.columns)\n",
    "print(hr_tr.shape);print(hw_tr.shape);print(hk_tr.shape)\n",
    "\n",
    "print('                                                   ======validation=======                                                       ')\n",
    "# validation split\n",
    "hr_val = val.drop(['Biopsy_HW','Biopsy_HK'], axis=1).copy()\n",
    "hw_val = val.drop(['Biopsy_HR','Biopsy_HK'], axis=1).copy()\n",
    "hk_val = val.drop(['Biopsy_HR','Biopsy_HW'], axis=1).copy()\n",
    "\n",
    "print(hr_val.columns);print(hw_val.columns);print(hk_val.columns)\n",
    "print(hr_val.shape);print(hw_val.shape);print(hk_val.shape)\n",
    "\n",
    "print('                                                      ======test=======                                                              ')\n",
    "# test split\n",
    "hr_te = te.drop(['Biopsy_HW','Biopsy_HK'], axis=1).copy()\n",
    "hw_te = te.drop(['Biopsy_HR','Biopsy_HK'], axis=1).copy()\n",
    "hk_te = te.drop(['Biopsy_HR','Biopsy_HW'], axis=1).copy()\n",
    "\n",
    "print(hr_te.columns);print(hw_te.columns);print(hk_te.columns)\n",
    "print(hr_te.shape);print(hw_te.shape);print(hk_te.shape)"
   ]
  },
  {
   "cell_type": "markdown",
   "metadata": {},
   "source": [
    "#### 데이터 셋 내보내기"
   ]
  },
  {
   "cell_type": "code",
   "execution_count": 17,
   "metadata": {},
   "outputs": [],
   "source": [
    "hr_tr.to_csv('../data/hr_tr.csv', index=False)\n",
    "hw_tr.to_csv('../data/hw_tr.csv', index=False)\n",
    "hk_tr.to_csv('../data/hk_tr.csv', index=False)\n",
    "\n",
    "hr_val.to_csv('../data/hr_val.csv', index=False )\n",
    "hw_val.to_csv('../data/hw_val.csv', index=False)\n",
    "hk_val.to_csv('../data/hk_val.csv', index=False )\n",
    "\n",
    "hr_te.to_csv('../data/hr_te.csv', index=False )\n",
    "hw_te.to_csv('../data/hw_te.csv', index=False )\n",
    "hk_te.to_csv('../data/hk_te.csv', index=False )"
   ]
  },
  {
   "cell_type": "code",
   "execution_count": 18,
   "metadata": {},
   "outputs": [],
   "source": [
    "xgb = XGBClassifier(n_estimators=500, learning_rate=0.2, max_depth=4, random_state = 2023,\n",
    "                    tree_method='gpu_hist', gpu_id=0)"
   ]
  }
 ],
 "metadata": {
  "kernelspec": {
   "display_name": "'lstm'",
   "language": "python",
   "name": "python3"
  },
  "language_info": {
   "codemirror_mode": {
    "name": "ipython",
    "version": 3
   },
   "file_extension": ".py",
   "mimetype": "text/x-python",
   "name": "python",
   "nbconvert_exporter": "python",
   "pygments_lexer": "ipython3",
   "version": "3.9.18"
  }
 },
 "nbformat": 4,
 "nbformat_minor": 2
}
